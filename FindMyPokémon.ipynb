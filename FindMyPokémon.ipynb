{
 "cells": [
  {
   "cell_type": "code",
   "execution_count": null,
   "id": "bf65d306-4721-4702-8450-6bf0fdd60d9a",
   "metadata": {},
   "outputs": [],
   "source": [
    "from matplotlib import pyplot as plt\n",
    "import cv2\n",
    "import os"
   ]
  },
  {
   "cell_type": "code",
   "execution_count": null,
   "id": "a1056e42-77b5-456d-a93b-947a4c303d7a",
   "metadata": {},
   "outputs": [],
   "source": [
    "# Fonction pour saisir le chemin de l'image à chercher\n",
    "def chemin_image_chercher(): \n",
    "    print(\"Entrez votre chemin de l'image du Pokémon à chercher : \")\n",
    "    path = input()\n",
    "    return path\n"
   ]
  },
  {
   "cell_type": "code",
   "execution_count": null,
   "id": "9f8f8316-9008-45b6-9cff-a8eedcf9f73f",
   "metadata": {},
   "outputs": [],
   "source": [
    "\n",
    "# Fonction pour saisir le chemin de l'image dans laquelle chercher\n",
    "def chemin_image_ou_chercher():\n",
    "    print(\"Entrez votre chemin de l'image dans laquelle chercher le Pokémon : \")\n",
    "    path = input()\n",
    "    return path"
   ]
  },
  {
   "cell_type": "code",
   "execution_count": null,
   "id": "c397360c-4d14-42fe-8748-ba400673a6db",
   "metadata": {},
   "outputs": [],
   "source": [
    "# Vérification de la validité du chemin de l'image\n",
    "def verif_image(path):  \n",
    "    return os.path.exists(path)"
   ]
  },
  {
   "cell_type": "code",
   "execution_count": null,
   "id": "136e6741-be09-4111-82e0-bef2ddba05ac",
   "metadata": {},
   "outputs": [],
   "source": [
    "# Fonction pour convertir une image en niveaux de gris\n",
    "def NiveauGris(image):\n",
    "    imgNG = cv2.cvtColor(image, cv2.COLOR_BGR2GRAY)\n",
    "    return imgNG"
   ]
  },
  {
   "cell_type": "code",
   "execution_count": null,
   "id": "631445c6-a37d-48ae-92c6-912cdcf293c9",
   "metadata": {},
   "outputs": [],
   "source": [
    "# Fonction pour redimensionner une image\n",
    "def redim(imageBase, largeur, hauteur):\n",
    "    imgR = cv2.resize(imageBase, (largeur, hauteur), interpolation=cv2.INTER_AREA)\n",
    "    return imgR"
   ]
  },
  {
   "cell_type": "code",
   "execution_count": null,
   "id": "014d7c83-ee6a-415e-831c-30063236bb57",
   "metadata": {},
   "outputs": [],
   "source": [
    "# Fonction pour charger l'image et vérifier sa validité\n",
    "def charger_image(chemin):\n",
    "    if verif_image(chemin): \n",
    "        image = cv2.imread(chemin, cv2.IMREAD_COLOR)\n",
    "        return image\n",
    "    else:\n",
    "        print(\"L'image n'est pas présente dans le chemin donné ou l'extension de l'image n'est pas bonne.\")\n",
    "        return None"
   ]
  },
  {
   "cell_type": "code",
   "execution_count": null,
   "id": "298b0ba5-4c38-4b9a-a69d-7d509789202e",
   "metadata": {},
   "outputs": [],
   "source": [
    "# Sélection du Pokémon à chercher et de l'image cible\n",
    "chemin_pokemon = chemin_image_chercher()\n",
    "chemin_image_grande = chemin_image_ou_chercher()"
   ]
  },
  {
   "cell_type": "code",
   "execution_count": null,
   "id": "23ad87bf-ce26-4a32-bf6c-131105314c0b",
   "metadata": {},
   "outputs": [],
   "source": [
    "# Chargement des images\n",
    "pokemon_image = charger_image(chemin_pokemon)\n",
    "grande_image = charger_image(chemin_image_grande)\n"
   ]
  },
  {
   "cell_type": "code",
   "execution_count": null,
   "id": "ca6b4218-4db1-4df7-a8ba-e83747a48c3b",
   "metadata": {},
   "outputs": [],
   "source": [
    "# Vérifier si les deux images sont valides\n",
    "if pokemon_image is None or grande_image is None:\n",
    "    exit()\n"
   ]
  },
  {
   "cell_type": "code",
   "execution_count": null,
   "id": "28ba57fd-7656-4c96-8dc3-355e6552421b",
   "metadata": {},
   "outputs": [],
   "source": [
    "# Conversion en niveaux de gris\n",
    "pokemon_img_ng = NiveauGris(pokemon_image)\n",
    "grande_img_ng = NiveauGris(grande_image)"
   ]
  },
  {
   "cell_type": "code",
   "execution_count": null,
   "id": "066f28c5-6d7c-42b7-b25f-668f27b38055",
   "metadata": {},
   "outputs": [],
   "source": [
    "# Redimensionnement des images pour accélérer le processus\n",
    "pokemon_img_resized = redim(pokemon_img_ng, 800, 800)\n",
    "grande_img_resized = redim(grande_img_ng, 800, 800)"
   ]
  },
  {
   "cell_type": "code",
   "execution_count": null,
   "id": "565f3dac-4993-427b-91a1-08605e7a1eb6",
   "metadata": {},
   "outputs": [],
   "source": [
    "# Création de l'objet ORB pour détecter et calculer les points-clés\n",
    "orb = cv2.ORB_create()"
   ]
  },
  {
   "cell_type": "code",
   "execution_count": null,
   "id": "24a1ab0b-f86d-483c-a8fd-97e310236185",
   "metadata": {},
   "outputs": [],
   "source": [
    "# Détection des points-clés et des descripteurs pour les deux images\n",
    "kp_pokemon, des_pokemon = orb.detectAndCompute(pokemon_img_resized, None)\n",
    "kp_grande, des_grande = orb.detectAndCompute(grande_img_resized, None)"
   ]
  },
  {
   "cell_type": "code",
   "execution_count": null,
   "id": "7d44587d-3104-44cd-b6f6-97a93652d5fd",
   "metadata": {},
   "outputs": [],
   "source": [
    "\n",
    "# Utilisation de la méthode des k plus proches voisins avec k=2\n",
    "bf = cv2.BFMatcher(cv2.NORM_HAMMING, crossCheck=False)\n",
    "matches = bf.knnMatch(des_pokemon, des_grande, k=2)"
   ]
  },
  {
   "cell_type": "code",
   "execution_count": null,
   "id": "e5a09b5f-5480-4371-a164-2134f2b3acc9",
   "metadata": {},
   "outputs": [],
   "source": [
    "# Application de la règle du ratio pour filtrer les bons matches\n",
    "good_matches = []\n",
    "for m, n in matches:\n",
    "    if m.distance < 0.75 * n.distance:  # Seulement les bonnes correspondances\n",
    "        good_matches.append(m)"
   ]
  },
  {
   "cell_type": "code",
   "execution_count": null,
   "id": "6b9c9178-c455-4db6-bce3-3fbca1296960",
   "metadata": {},
   "outputs": [],
   "source": [
    "# Récupération des meilleures correspondances (par exemple, top 25)\n",
    "good_matches = sorted(good_matches, key=lambda x: x.distance)"
   ]
  },
  {
   "cell_type": "code",
   "execution_count": null,
   "id": "df798bfc-b40a-4a99-b041-44c4afaad985",
   "metadata": {},
   "outputs": [],
   "source": [
    "# Dessin des matches\n",
    "img_matches = cv2.drawMatches(\n",
    "    pokemon_image, kp_pokemon, grande_image, kp_grande, good_matches[:25], grande_image,\n",
    "    flags=cv2.DrawMatchesFlags_NOT_DRAW_SINGLE_POINTS)"
   ]
  },
  {
   "cell_type": "code",
   "execution_count": null,
   "id": "c46b1965-085d-4035-a86d-61773c1ce171",
   "metadata": {},
   "outputs": [],
   "source": [
    "# Affichage des résultats\n",
    "plt.imshow(img_matches)\n",
    "plt.title('Résultats de la recherche de Pokémon')\n",
    "plt.show()"
   ]
  },
  {
   "cell_type": "code",
   "execution_count": null,
   "id": "b42ba885-bb8f-418e-a385-2c9af68cb890",
   "metadata": {},
   "outputs": [],
   "source": [
    "# Ajout des repères visuels sur les zones où le Pokémon est trouvé\n",
    "for match in good_matches[:10]:  # Utiliser les meilleures correspondances pour le marquage\n",
    "    pokemon_pt = kp_pokemon[match.queryIdx].pt\n",
    "    grande_pt = kp_grande[match.trainIdx].pt\n",
    "    cv2.circle(grande_image, (int(grande_pt[0]), int(grande_pt[1])), 5, (0, 255, 0), 2)"
   ]
  },
  {
   "cell_type": "code",
   "execution_count": null,
   "id": "ced2fe5d-8693-4d48-9a09-5c49552cef81",
   "metadata": {},
   "outputs": [],
   "source": [
    "# Affichage de l'image finale avec les repères visuels\n",
    "plt.imshow(cv2.cvtColor(grande_image, cv2.COLOR_BGR2RGB))\n",
    "plt.title('Pokémon détecté avec repères visuels')\n",
    "plt.show()"
   ]
  }
 ],
 "metadata": {
  "kernelspec": {
   "display_name": "Python 3 (ipykernel)",
   "language": "python",
   "name": "python3"
  },
  "language_info": {
   "codemirror_mode": {
    "name": "ipython",
    "version": 3
   },
   "file_extension": ".py",
   "mimetype": "text/x-python",
   "name": "python",
   "nbconvert_exporter": "python",
   "pygments_lexer": "ipython3",
   "version": "3.12.7"
  }
 },
 "nbformat": 4,
 "nbformat_minor": 5
}
